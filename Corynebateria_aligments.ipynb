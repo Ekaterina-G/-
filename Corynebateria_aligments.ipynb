{
 "cells": [
  {
   "cell_type": "code",
   "execution_count": 57,
   "id": "0d39379c",
   "metadata": {},
   "outputs": [
    {
     "name": "stdout",
     "output_type": "stream",
     "text": [
      "ATGACCTC-A--CC-GA-ACAACT-ACCTCGCCA-AGATT-AAGGTCG-TCGGCGTG--GGCGGCGGCGGAGTCAA-CGCCGTCAAC-CGCATGATT-GAA-GAAGGC--CT-CAAAGGCGTG-G-AGTTCATCGCGG--TG-AACACCGACTCGCA--GGCTCTC-ATGTTCT--CT-GATGCCG-ACGTA--AAGCTCG-AT-ATC-GGAC-GT-GA--AGCTACCCGT-GGTCTTGG-TGCC-GGCGCG-AACCCAGAAGTT-GGA-CGTG-C-C---TCG-GCA-GAGGATCACAAGAACGA--A-ATC-GAAGAA-A-CCATCAAGG--G-CGCCGACATGGTC-TTCGTTACC-GCC-GGC-GAAGGTG-GTG-G-CACCGGA-ACTGG-TGCTGCACCA-G-TCGTGGCAGGGA---TCGCC-AAGAAG-ATGGGC---GCA-CTGACCA-TTGGTGTTGTG--ACCAA-GCCT--TTCGAG-TTCGAAGG-CCGTCGCCGTACTC-GC---CAGGC-A-GAAGAAGG-CATCGCA-GCA-CTGAA-G-GAGGTCT-GCGACACC-CTC-ATCGTTATTCCA--AACGAC--CGCCTGCTTGA-GC-TGGG-C-GATGCGAA-C--CTGTCCATC-ATGGAAGCG--TTCCGCGCA-G-CCGAT-GAAG-TTCT-C-CA-CAATGGTGTTC-AGGGT-ATT-ACCAAC-CTGATCACCATCCCT-GG-TGTGATCAACGTGGACTTCGCG-GACGTT-CGCTCC-GTC-ATGT-CCGAA-GCTGGT--TCCGCAC-TCATGGGTG-TG-GGCT-CT-GCACGTG-G-GGACA-ACC-GCGTT-GTC--TCT--G-CA-ACCG-A-GCAGGCCATC-AACTCTCCA-CTT-CTCG-A-AGCAACA-ATGGAC-GGC-GC-AACTGG-CGTC-CTGCTGT-CCTTTGCT-GGTGGA-TCCGACCTGGGCCTCA-T-GGAAG-T--CAACGCAG-CTGC--ATCCATGGTCCGTGAGCGTT------CCGAT-GAAGAT-GTCAACCTC-ATCTTCGGT-ACCATCATCGACGACAAC--CTGGGCGACGAAG-TCCGCGTA-ACCGTCATCGCGAC-C-GGTT-TT-GACGCAGCTCGCGCAA---GCGCCGCTG--AGA-A-CC-GCCG--CGCAGGCATCTCAGCTGCACC-TGCAGCT-GAGCCA-G-TCCAGC--A-GCAGGTC-C--CAACCA-CCA-ACGCAACCCT-TC-CA-----CCAGAGAAG----GAA-AG-CAT--CTTC-G-GTG-----GT--GCACGTG-AGG---AG-AACGATCCTTACCTGTCCC-GCTCTGCTGGTGCACGTCATCGCATTG-AGG--AGACCCGCT-CCGGC---G---GT--GG-ACTCTTCA--CCAC-C---G-GCAATGATCGC-GATT--A-CCGTCGT--G-ATG-AGCGC-C-GCGAAG-AT-CA-CCGTGACGAGCGC---CGCGATGAGCGCCG-CGATGACC-GTT--CCTAC-GAC-C-GC--C-GT--G-ATGA-----------TC-G-TCGTGACGATCGCC-G-CGATGACCGCG--GA-GACGAC-CTGGATGTAC--CCAG--CTTC--CTCCAGTAA\n",
      "||||   | |  || |  | |||  |||||| || ||| | ||||| | || | |||  |||||||||||||| || |||||||||  ||||||| | | | | | ||  || |  ||| ||| | ||||||||||    |  |||||||| | |||  ||||||  |||  ||  |  |||| || ||  |  ||||| | |  ||  || | |  ||  ||  |||||  |||| ||| || | |||||  ||||| |  |   ||  || | | |   ||  ||  ||||||||||||   ||  | ||  |||| | | || |   ||  | ||||||||||||  ||||||| | | | ||  | ||| | | | | ||||||  || || |||||| ||  | ||||||||   |   ||| | |||||| |   |    ||  ||||||  |||||| || |  |||   |||   |||| | |||| ||| |||||||||    | ||   ||||| | |  | ||| ||||| | ||  |||   | ||||| | |||||| | ||  ||||||| |||   |||||   || |||| ||| |  |  | | || | | | |  ||||||||  |||| || |  || | |||| | ||||  | || |||| | || |   ||||||  ||||  | | |||||  |||||||||| |||  || |||||||||||||||||||||  |||| | |||| | ||  |||  ||| | || ||   ||||| | ||||||||  |  |||  |  || |    | || |  ||| |||   | |  ||   | |  |||  | ||| |||||  ||||||||  | | || | | ||| ||  |||||  ||  || ||  || |||  ||||| | |||||||  |||||  ||||||||||||||   | || || |  |  | ||| ||||  | || ||||  | ||| |        ||||  |||||  ||||||||  ||||||||  |||||||||||||||  |  |||||||||| || |||||||  |||||||||||  | | ||   || |||| | ||||| | |   |||||| |   | | | || | ||  | | ||     | || ||||| ||| ||  | |  | | |   ||  | ||||||  |  |  ||| ||  || ||| ||| |  |      |||| ||||    |   || | |  |  | | ||      ||  ||| ||| |||   || || |  ||   || |   | |    | ||| |  | ||  |||   | |||  | |||||   || ||   |   |   || || |  ||  |||  |   | || | |  ||| |  |  | |||| |   | | | | ||| | ||  || |  || ||  | | || ||   | | | | | | || ||  | || |||  ||| | | | | ||  | |   | | ||           || | | |||  |||   | | ||  ||  | |  || |||||  |||||  | |  || |  ||||  ||  ||   \n",
      "ATGA---CGAATCCTG-GA-AAC-CACCTCG-CAGAGA-TCAAGGT-GGTC-G-GTGTCGGCGGCGGCGGAGT-AAACGCCGTCAA-TCGCATGA-TCG-ACG-A-GCAGCTGC--AGG-GTGTGGAGTTCATCGC--CAT-TAACACCGA-T-GCACAGGCTCT-GATG--CTGAC-CGATG-CGGAC--ATCAAGCT-GGA-CAT-TGG-CCG-CGAGGAG--ACCCG-CGGTC-TGGGTG-CTGGCGC-TAACCC-G--G--AGG-TCG-GGCGCAAGTC-TGC-CGAGGATCACAAG---GACCAGAT-TGAAG-AGATCC-T---GGCCGGCGCCGACATGGT-GTTCGTTA-CTG-CAGG-TG-AGG-GAG-GCGGCACCGG-TAC-GGGTGCTGC-CC-CGGTCGTGGCA---AACATCG-CGAAGAAGCA---G-AATGC-TCTGACC-GTTGGTG-TG-GTTACC--CGCC-CCTTCG-GCTTCG-AGGGCCGTCGCCG----CAGCAAGCAGGCTATG--G-AGGGCATCG-AAGC-TCTG--CGCGAGGT-TTGCGACA-CGCT-GATCGTTA-TCC-CGAACGA-TTCG-CTGC-TGAAG-AT--GTCCGA-G-G-AGCAGCTGTCCAT-GATGG-AG-GCCTT-C-CGCAAGGCCGA-CG-AGGTTCTGCTCAGC---GGTGTT-GAGGG-CA-TCACCAA-GCTGATCACCA-CCC-CGGGTGTGATCAACGTGGACTTCGC-CGACG-TGCGCT-CTGT-TATG-ACCG-ACGC-GG-GCTCCGC-CCTCATGGGT-AT-CGGC-AC-CGC-C---CGCGG-C-GACCAGCG--CG-CAATC-AAGGC-CACC-CAAGCA-GCCAT-TAACTCTCC-GC-TGCT-GGAGAGC-AC-CATGGA-AGG-TGCCAA--GGGCGT-GCTGCT-TTCCTTTGC-CGGTGG-CTCCGACCTGGGCCT--GTTGG-AGGTTTC--C-CAGGCTGCCGA-CC-TGGT--G-GAG-G--AGAAGGCCGA-CGAAGA-CGTCAACCT-GATCTTCGG-CACCATCATCGACGAC--CAGCTGGGCGACG-AGGTCCGCGT-GACCGTCATCGC--CACTGG--CTTCGACG-A-CTCGC-C-ATCCGCGCCG-T-CCA-ACAACCAG-CGTTC-C-GG-----C-GC-GCACCGTGC-GC-CG-G--AAGGT---GCGGACGCAGGT-GCTGC--CCAGCC-GAC-CAA-CCTGT-TC-GGTGGCCAG-GAAGCCCCG--CAGGC-TGGC--CAGAGT-TCTCAGTACGCA-GTGCAGGGCCAGGAA-G--CC---CC-G---CAG----G-TGG-G--C-TC--CGC---GCAGGCCA-ACCCG--GCC-GCACAGCAAG-CCGGCAC-C--CAGTCCA-GCTTTGCGC-A-G--CGCCG--TGGAACCGT-G-CCGCA-GCA-CGCACAGC--AGGA-ACAGCC--G-C-AG-GCTAAC-C-A-G-G-G-CGGCG--G-CCTGTTTACCT-CCG-CTCCGCAGCAG-CCGCA-GAACCCCACCAACTCCGGT-GTG--GAT---CTGACG--GA--G-GAAGAAGACGA-TCTGGA--T-CTGCC-GGACTTCGACT--AG---\n",
      "  Score=1007\n",
      "\n"
     ]
    }
   ],
   "source": [
    "from Bio import SeqIO\n",
    "from Bio import pairwise2\n",
    "from Bio.Seq import Seq\n",
    "from Bio.pairwise2 import format_alignment\n",
    "for seq_record1 in SeqIO.parse(r'C:\\Users\\79113.LAPTOP-H2I5ULGA\\Desktop\\raw\\FtsZ_Corynebacterium_glutamicum.fasta', \"fasta\"):\n",
    "    seq1=str((seq_record1.seq))\n",
    "for seq_record2 in SeqIO.parse(r'C:\\Users\\79113.LAPTOP-H2I5ULGA\\Desktop\\raw\\FtsZ_Corynebacterium_jeikeium.fasta', \"fasta\"):\n",
    "    seq2=str((seq_record2.seq))\n",
    "alignments = pairwise2.align.globalxx(seq1, seq2)\n",
    "print(format_alignment(*alignments[0])) "
   ]
  },
  {
   "cell_type": "code",
   "execution_count": null,
   "id": "c8de6634",
   "metadata": {},
   "outputs": [],
   "source": []
  }
 ],
 "metadata": {
  "kernelspec": {
   "display_name": "Python 3 (ipykernel)",
   "language": "python",
   "name": "python3"
  },
  "language_info": {
   "codemirror_mode": {
    "name": "ipython",
    "version": 3
   },
   "file_extension": ".py",
   "mimetype": "text/x-python",
   "name": "python",
   "nbconvert_exporter": "python",
   "pygments_lexer": "ipython3",
   "version": "3.9.12"
  }
 },
 "nbformat": 4,
 "nbformat_minor": 5
}
